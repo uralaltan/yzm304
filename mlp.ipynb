{
 "cells": [
  {
   "metadata": {},
   "cell_type": "markdown",
   "source": [
    "1. Load the Data Set\n",
    "2. Define MLP Structure\n",
    "3. Initialize Model Parameters\n",
    "4. Forward Propagation\n",
    "5. Compute Cost\n",
    "6."
   ],
   "id": "2e59bd995961a6c1"
  },
  {
   "metadata": {
    "ExecuteTime": {
     "end_time": "2025-03-12T15:09:36.360441Z",
     "start_time": "2025-03-12T15:09:35.828961Z"
    }
   },
   "cell_type": "code",
   "source": [
    "import numpy as np\n",
    "import pandas as pd\n",
    "from sklearn.model_selection import train_test_split\n",
    "from sklearn.metrics import accuracy_score, precision_score, recall_score, f1_score, confusion_matrix, \\\n",
    "    classification_report"
   ],
   "id": "e29c121b77d9f25b",
   "outputs": [],
   "execution_count": 3
  },
  {
   "metadata": {
    "ExecuteTime": {
     "end_time": "2025-03-12T15:09:36.367202Z",
     "start_time": "2025-03-12T15:09:36.363244Z"
    }
   },
   "cell_type": "code",
   "source": "df = pd.read_csv('datasets/BankNote_Authentication.csv')",
   "id": "525c970a761be7c7",
   "outputs": [],
   "execution_count": 4
  },
  {
   "metadata": {
    "ExecuteTime": {
     "end_time": "2025-03-12T15:09:36.413543Z",
     "start_time": "2025-03-12T15:09:36.406965Z"
    }
   },
   "cell_type": "code",
   "source": "df.head()",
   "id": "25627aac69eeb507",
   "outputs": [
    {
     "data": {
      "text/plain": [
       "   variance  skewness  curtosis  entropy  class\n",
       "0   3.62160    8.6661   -2.8073 -0.44699      0\n",
       "1   4.54590    8.1674   -2.4586 -1.46210      0\n",
       "2   3.86600   -2.6383    1.9242  0.10645      0\n",
       "3   3.45660    9.5228   -4.0112 -3.59440      0\n",
       "4   0.32924   -4.4552    4.5718 -0.98880      0"
      ],
      "text/html": [
       "<div>\n",
       "<style scoped>\n",
       "    .dataframe tbody tr th:only-of-type {\n",
       "        vertical-align: middle;\n",
       "    }\n",
       "\n",
       "    .dataframe tbody tr th {\n",
       "        vertical-align: top;\n",
       "    }\n",
       "\n",
       "    .dataframe thead th {\n",
       "        text-align: right;\n",
       "    }\n",
       "</style>\n",
       "<table border=\"1\" class=\"dataframe\">\n",
       "  <thead>\n",
       "    <tr style=\"text-align: right;\">\n",
       "      <th></th>\n",
       "      <th>variance</th>\n",
       "      <th>skewness</th>\n",
       "      <th>curtosis</th>\n",
       "      <th>entropy</th>\n",
       "      <th>class</th>\n",
       "    </tr>\n",
       "  </thead>\n",
       "  <tbody>\n",
       "    <tr>\n",
       "      <th>0</th>\n",
       "      <td>3.62160</td>\n",
       "      <td>8.6661</td>\n",
       "      <td>-2.8073</td>\n",
       "      <td>-0.44699</td>\n",
       "      <td>0</td>\n",
       "    </tr>\n",
       "    <tr>\n",
       "      <th>1</th>\n",
       "      <td>4.54590</td>\n",
       "      <td>8.1674</td>\n",
       "      <td>-2.4586</td>\n",
       "      <td>-1.46210</td>\n",
       "      <td>0</td>\n",
       "    </tr>\n",
       "    <tr>\n",
       "      <th>2</th>\n",
       "      <td>3.86600</td>\n",
       "      <td>-2.6383</td>\n",
       "      <td>1.9242</td>\n",
       "      <td>0.10645</td>\n",
       "      <td>0</td>\n",
       "    </tr>\n",
       "    <tr>\n",
       "      <th>3</th>\n",
       "      <td>3.45660</td>\n",
       "      <td>9.5228</td>\n",
       "      <td>-4.0112</td>\n",
       "      <td>-3.59440</td>\n",
       "      <td>0</td>\n",
       "    </tr>\n",
       "    <tr>\n",
       "      <th>4</th>\n",
       "      <td>0.32924</td>\n",
       "      <td>-4.4552</td>\n",
       "      <td>4.5718</td>\n",
       "      <td>-0.98880</td>\n",
       "      <td>0</td>\n",
       "    </tr>\n",
       "  </tbody>\n",
       "</table>\n",
       "</div>"
      ]
     },
     "execution_count": 5,
     "metadata": {},
     "output_type": "execute_result"
    }
   ],
   "execution_count": 5
  },
  {
   "metadata": {
    "ExecuteTime": {
     "end_time": "2025-03-12T15:09:36.511691Z",
     "start_time": "2025-03-12T15:09:36.507644Z"
    }
   },
   "cell_type": "code",
   "source": "df.info()",
   "id": "bbfc366a9320d83c",
   "outputs": [
    {
     "name": "stdout",
     "output_type": "stream",
     "text": [
      "<class 'pandas.core.frame.DataFrame'>\n",
      "RangeIndex: 1372 entries, 0 to 1371\n",
      "Data columns (total 5 columns):\n",
      " #   Column    Non-Null Count  Dtype  \n",
      "---  ------    --------------  -----  \n",
      " 0   variance  1372 non-null   float64\n",
      " 1   skewness  1372 non-null   float64\n",
      " 2   curtosis  1372 non-null   float64\n",
      " 3   entropy   1372 non-null   float64\n",
      " 4   class     1372 non-null   int64  \n",
      "dtypes: float64(4), int64(1)\n",
      "memory usage: 53.7 KB\n"
     ]
    }
   ],
   "execution_count": 6
  },
  {
   "metadata": {
    "ExecuteTime": {
     "end_time": "2025-03-12T15:09:36.595849Z",
     "start_time": "2025-03-12T15:09:36.588026Z"
    }
   },
   "cell_type": "code",
   "source": "df.describe()",
   "id": "fa17e3d4b501183f",
   "outputs": [
    {
     "data": {
      "text/plain": [
       "          variance     skewness     curtosis      entropy        class\n",
       "count  1372.000000  1372.000000  1372.000000  1372.000000  1372.000000\n",
       "mean      0.433735     1.922353     1.397627    -1.191657     0.444606\n",
       "std       2.842763     5.869047     4.310030     2.101013     0.497103\n",
       "min      -7.042100   -13.773100    -5.286100    -8.548200     0.000000\n",
       "25%      -1.773000    -1.708200    -1.574975    -2.413450     0.000000\n",
       "50%       0.496180     2.319650     0.616630    -0.586650     0.000000\n",
       "75%       2.821475     6.814625     3.179250     0.394810     1.000000\n",
       "max       6.824800    12.951600    17.927400     2.449500     1.000000"
      ],
      "text/html": [
       "<div>\n",
       "<style scoped>\n",
       "    .dataframe tbody tr th:only-of-type {\n",
       "        vertical-align: middle;\n",
       "    }\n",
       "\n",
       "    .dataframe tbody tr th {\n",
       "        vertical-align: top;\n",
       "    }\n",
       "\n",
       "    .dataframe thead th {\n",
       "        text-align: right;\n",
       "    }\n",
       "</style>\n",
       "<table border=\"1\" class=\"dataframe\">\n",
       "  <thead>\n",
       "    <tr style=\"text-align: right;\">\n",
       "      <th></th>\n",
       "      <th>variance</th>\n",
       "      <th>skewness</th>\n",
       "      <th>curtosis</th>\n",
       "      <th>entropy</th>\n",
       "      <th>class</th>\n",
       "    </tr>\n",
       "  </thead>\n",
       "  <tbody>\n",
       "    <tr>\n",
       "      <th>count</th>\n",
       "      <td>1372.000000</td>\n",
       "      <td>1372.000000</td>\n",
       "      <td>1372.000000</td>\n",
       "      <td>1372.000000</td>\n",
       "      <td>1372.000000</td>\n",
       "    </tr>\n",
       "    <tr>\n",
       "      <th>mean</th>\n",
       "      <td>0.433735</td>\n",
       "      <td>1.922353</td>\n",
       "      <td>1.397627</td>\n",
       "      <td>-1.191657</td>\n",
       "      <td>0.444606</td>\n",
       "    </tr>\n",
       "    <tr>\n",
       "      <th>std</th>\n",
       "      <td>2.842763</td>\n",
       "      <td>5.869047</td>\n",
       "      <td>4.310030</td>\n",
       "      <td>2.101013</td>\n",
       "      <td>0.497103</td>\n",
       "    </tr>\n",
       "    <tr>\n",
       "      <th>min</th>\n",
       "      <td>-7.042100</td>\n",
       "      <td>-13.773100</td>\n",
       "      <td>-5.286100</td>\n",
       "      <td>-8.548200</td>\n",
       "      <td>0.000000</td>\n",
       "    </tr>\n",
       "    <tr>\n",
       "      <th>25%</th>\n",
       "      <td>-1.773000</td>\n",
       "      <td>-1.708200</td>\n",
       "      <td>-1.574975</td>\n",
       "      <td>-2.413450</td>\n",
       "      <td>0.000000</td>\n",
       "    </tr>\n",
       "    <tr>\n",
       "      <th>50%</th>\n",
       "      <td>0.496180</td>\n",
       "      <td>2.319650</td>\n",
       "      <td>0.616630</td>\n",
       "      <td>-0.586650</td>\n",
       "      <td>0.000000</td>\n",
       "    </tr>\n",
       "    <tr>\n",
       "      <th>75%</th>\n",
       "      <td>2.821475</td>\n",
       "      <td>6.814625</td>\n",
       "      <td>3.179250</td>\n",
       "      <td>0.394810</td>\n",
       "      <td>1.000000</td>\n",
       "    </tr>\n",
       "    <tr>\n",
       "      <th>max</th>\n",
       "      <td>6.824800</td>\n",
       "      <td>12.951600</td>\n",
       "      <td>17.927400</td>\n",
       "      <td>2.449500</td>\n",
       "      <td>1.000000</td>\n",
       "    </tr>\n",
       "  </tbody>\n",
       "</table>\n",
       "</div>"
      ]
     },
     "execution_count": 7,
     "metadata": {},
     "output_type": "execute_result"
    }
   ],
   "execution_count": 7
  },
  {
   "metadata": {
    "ExecuteTime": {
     "end_time": "2025-03-12T15:09:36.698743Z",
     "start_time": "2025-03-12T15:09:36.694084Z"
    }
   },
   "cell_type": "code",
   "source": "df.isnull().sum()",
   "id": "e90174ef1d6f53d4",
   "outputs": [
    {
     "data": {
      "text/plain": [
       "variance    0\n",
       "skewness    0\n",
       "curtosis    0\n",
       "entropy     0\n",
       "class       0\n",
       "dtype: int64"
      ]
     },
     "execution_count": 8,
     "metadata": {},
     "output_type": "execute_result"
    }
   ],
   "execution_count": 8
  },
  {
   "metadata": {
    "ExecuteTime": {
     "end_time": "2025-03-12T15:09:36.807952Z",
     "start_time": "2025-03-12T15:09:36.804259Z"
    }
   },
   "cell_type": "code",
   "source": "df = df.sample(frac=1, random_state=42).reset_index(drop=True)",
   "id": "21883d8e210c0c87",
   "outputs": [],
   "execution_count": 9
  },
  {
   "metadata": {
    "ExecuteTime": {
     "end_time": "2025-03-12T15:09:36.875093Z",
     "start_time": "2025-03-12T15:09:36.872404Z"
    }
   },
   "cell_type": "code",
   "source": "X, y = df.iloc[:, :-1], df.iloc[:, -1]",
   "id": "3f2326ee07773adc",
   "outputs": [],
   "execution_count": 10
  },
  {
   "metadata": {
    "ExecuteTime": {
     "end_time": "2025-03-12T15:09:36.917111Z",
     "start_time": "2025-03-12T15:09:36.913854Z"
    }
   },
   "cell_type": "code",
   "source": [
    "print(\"X type is \" + str(type(X)))\n",
    "print(\"X shape is \" + str(X.shape))\n",
    "print(\"y type is \" + str(type(y)))\n",
    "print(\"y shape is \" + str(y.shape))"
   ],
   "id": "de60d4ade3ac3d1c",
   "outputs": [
    {
     "name": "stdout",
     "output_type": "stream",
     "text": [
      "X type is <class 'pandas.core.frame.DataFrame'>\n",
      "X shape is (1372, 4)\n",
      "y type is <class 'pandas.core.series.Series'>\n",
      "y shape is (1372,)\n"
     ]
    }
   ],
   "execution_count": 11
  },
  {
   "metadata": {
    "ExecuteTime": {
     "end_time": "2025-03-12T15:09:37.008488Z",
     "start_time": "2025-03-12T15:09:37.006453Z"
    }
   },
   "cell_type": "code",
   "source": "X = X.to_numpy()",
   "id": "586a809c34c6b606",
   "outputs": [],
   "execution_count": 12
  },
  {
   "metadata": {
    "ExecuteTime": {
     "end_time": "2025-03-12T15:09:37.069504Z",
     "start_time": "2025-03-12T15:09:37.067131Z"
    }
   },
   "cell_type": "code",
   "source": "y = y.to_numpy().reshape(-1, 1)",
   "id": "5fd93cfb34ca251",
   "outputs": [],
   "execution_count": 13
  },
  {
   "metadata": {
    "ExecuteTime": {
     "end_time": "2025-03-12T15:09:37.154827Z",
     "start_time": "2025-03-12T15:09:37.151796Z"
    }
   },
   "cell_type": "code",
   "source": [
    "print(\"X type is \" + str(type(X)))\n",
    "print(\"X shape is \" + str(X.shape))\n",
    "print(\"y type is \" + str(type(y)))\n",
    "print(\"y shape is \" + str(y.shape))"
   ],
   "id": "455ed54d2fba1eb3",
   "outputs": [
    {
     "name": "stdout",
     "output_type": "stream",
     "text": [
      "X type is <class 'numpy.ndarray'>\n",
      "X shape is (1372, 4)\n",
      "y type is <class 'numpy.ndarray'>\n",
      "y shape is (1372, 1)\n"
     ]
    }
   ],
   "execution_count": 14
  },
  {
   "metadata": {
    "ExecuteTime": {
     "end_time": "2025-03-12T15:09:37.235388Z",
     "start_time": "2025-03-12T15:09:37.229990Z"
    }
   },
   "cell_type": "code",
   "source": "X_train, X_test, y_train, y_test = train_test_split(X, y, test_size=0.2, random_state=42, stratify=y)",
   "id": "19a43511deabab24",
   "outputs": [],
   "execution_count": 15
  },
  {
   "metadata": {
    "ExecuteTime": {
     "end_time": "2025-03-12T15:09:37.323690Z",
     "start_time": "2025-03-12T15:09:37.321209Z"
    }
   },
   "cell_type": "code",
   "source": [
    "print(\"X type is \" + str(type(X)))\n",
    "print(\"X shape is \" + str(X.shape))\n",
    "print(\"y type is \" + str(type(y)))\n",
    "print(\"y shape is \" + str(y.shape))"
   ],
   "id": "bddcf77b3f4fd2c",
   "outputs": [
    {
     "name": "stdout",
     "output_type": "stream",
     "text": [
      "X type is <class 'numpy.ndarray'>\n",
      "X shape is (1372, 4)\n",
      "y type is <class 'numpy.ndarray'>\n",
      "y shape is (1372, 1)\n"
     ]
    }
   ],
   "execution_count": 16
  },
  {
   "metadata": {},
   "cell_type": "markdown",
   "source": "## Define Network Structure",
   "id": "8ebc83b4ec72d11c"
  },
  {
   "metadata": {
    "ExecuteTime": {
     "end_time": "2025-03-12T15:09:37.480816Z",
     "start_time": "2025-03-12T15:09:37.478493Z"
    }
   },
   "cell_type": "code",
   "source": [
    "def initialize_parameters(n_x, n_h, n_y=1):\n",
    "    np.random.seed(42)\n",
    "    w1 = np.random.randn(n_h, n_x) * 0.01\n",
    "    b1 = np.zeros((n_h, 1))\n",
    "    w2 = np.random.randn(n_y, n_h) * 0.01\n",
    "    b2 = np.zeros((n_y, 1))\n",
    "\n",
    "    parameters = {\n",
    "        \"w1\": w1,\n",
    "        \"b1\": b1,\n",
    "        \"w2\": w2,\n",
    "        \"b2\": b2,\n",
    "    }\n",
    "\n",
    "    return parameters"
   ],
   "id": "86a302fafd6c0b2c",
   "outputs": [],
   "execution_count": 17
  },
  {
   "metadata": {
    "ExecuteTime": {
     "end_time": "2025-03-12T15:09:37.567512Z",
     "start_time": "2025-03-12T15:09:37.564580Z"
    }
   },
   "cell_type": "code",
   "source": "X_train.shape",
   "id": "ca7b1fb3147dfc01",
   "outputs": [
    {
     "data": {
      "text/plain": [
       "(1097, 4)"
      ]
     },
     "execution_count": 18,
     "metadata": {},
     "output_type": "execute_result"
    }
   ],
   "execution_count": 18
  },
  {
   "metadata": {
    "ExecuteTime": {
     "end_time": "2025-03-12T15:09:37.648245Z",
     "start_time": "2025-03-12T15:09:37.645811Z"
    }
   },
   "cell_type": "code",
   "source": "test_parameters = initialize_parameters(X.shape[1], 5, 1)",
   "id": "2fce2853db71cc99",
   "outputs": [],
   "execution_count": 19
  },
  {
   "metadata": {
    "ExecuteTime": {
     "end_time": "2025-03-12T15:09:37.738525Z",
     "start_time": "2025-03-12T15:09:37.735928Z"
    }
   },
   "cell_type": "code",
   "source": [
    "print(\"W1 = \" + str(test_parameters[\"w1\"]))\n",
    "print(\"b1 = \" + str(test_parameters[\"b1\"]))\n",
    "print(\"W2 = \" + str(test_parameters[\"w2\"]))\n",
    "print(\"b2 = \" + str(test_parameters[\"b2\"]))"
   ],
   "id": "290af1ce0df8887d",
   "outputs": [
    {
     "name": "stdout",
     "output_type": "stream",
     "text": [
      "W1 = [[ 0.00496714 -0.00138264  0.00647689  0.0152303 ]\n",
      " [-0.00234153 -0.00234137  0.01579213  0.00767435]\n",
      " [-0.00469474  0.0054256  -0.00463418 -0.0046573 ]\n",
      " [ 0.00241962 -0.0191328  -0.01724918 -0.00562288]\n",
      " [-0.01012831  0.00314247 -0.00908024 -0.01412304]]\n",
      "b1 = [[0.]\n",
      " [0.]\n",
      " [0.]\n",
      " [0.]\n",
      " [0.]]\n",
      "W2 = [[ 0.01465649 -0.00225776  0.00067528 -0.01424748 -0.00544383]]\n",
      "b2 = [[0.]]\n"
     ]
    }
   ],
   "execution_count": 20
  },
  {
   "metadata": {
    "ExecuteTime": {
     "end_time": "2025-03-12T15:09:37.815480Z",
     "start_time": "2025-03-12T15:09:37.813248Z"
    }
   },
   "cell_type": "code",
   "source": [
    "print(\"W1 = \" + str(test_parameters[\"w1\"].shape))\n",
    "print(\"b1 = \" + str(test_parameters[\"b1\"].shape))\n",
    "print(\"W2 = \" + str(test_parameters[\"w2\"].shape))\n",
    "print(\"b2 = \" + str(test_parameters[\"b2\"].shape))"
   ],
   "id": "6993d3795dae85c9",
   "outputs": [
    {
     "name": "stdout",
     "output_type": "stream",
     "text": [
      "W1 = (5, 4)\n",
      "b1 = (5, 1)\n",
      "W2 = (1, 5)\n",
      "b2 = (1, 1)\n"
     ]
    }
   ],
   "execution_count": 21
  },
  {
   "metadata": {},
   "cell_type": "markdown",
   "source": "## Forward Propogation",
   "id": "9ebbab043517cb92"
  },
  {
   "metadata": {
    "ExecuteTime": {
     "end_time": "2025-03-12T15:09:37.980948Z",
     "start_time": "2025-03-12T15:09:37.979143Z"
    }
   },
   "cell_type": "code",
   "source": [
    "def sigmoid(x):\n",
    "    return 1 / (1 + np.exp(-x))"
   ],
   "id": "c3d94c5e7b403cff",
   "outputs": [],
   "execution_count": 22
  },
  {
   "metadata": {
    "ExecuteTime": {
     "end_time": "2025-03-12T15:09:38.070755Z",
     "start_time": "2025-03-12T15:09:38.068046Z"
    }
   },
   "cell_type": "code",
   "source": [
    "def forward_propagation(X, parameters):\n",
    "    W1 = parameters[\"w1\"]\n",
    "    b1 = parameters[\"b1\"]\n",
    "    W2 = parameters[\"w2\"]\n",
    "    b2 = parameters[\"b2\"]\n",
    "\n",
    "    Z1 = np.dot(W1, X.T) + b1\n",
    "    A1 = np.tanh(Z1)\n",
    "    Z2 = np.dot(W2, A1) + b2\n",
    "    A2 = sigmoid(Z2)\n",
    "\n",
    "    cache = {\n",
    "        \"Z1\": Z1,\n",
    "        \"A1\": A1,\n",
    "        \"Z2\": Z2,\n",
    "        \"A2\": A2,\n",
    "    }\n",
    "\n",
    "    return A2, cache"
   ],
   "id": "93d47d675f8dd4a2",
   "outputs": [],
   "execution_count": 23
  },
  {
   "metadata": {
    "ExecuteTime": {
     "end_time": "2025-03-12T15:09:38.152422Z",
     "start_time": "2025-03-12T15:09:38.150095Z"
    }
   },
   "cell_type": "code",
   "source": "test_A2, test_cache = forward_propagation(X_train, test_parameters)",
   "id": "a993ac4ff8bbe9cb",
   "outputs": [],
   "execution_count": 24
  },
  {
   "metadata": {
    "ExecuteTime": {
     "end_time": "2025-03-12T15:09:38.934199Z",
     "start_time": "2025-03-12T15:09:38.931104Z"
    }
   },
   "cell_type": "code",
   "source": [
    "print(\"A2 test:\" + str(test_A2))\n",
    "print(\"A2 test shape:\" + str(test_A2.shape))"
   ],
   "id": "4ee5839c0c6d8f90",
   "outputs": [
    {
     "name": "stdout",
     "output_type": "stream",
     "text": [
      "A2 test:[[0.50004348 0.5003625  0.50046776 ... 0.50019115 0.50022992 0.49971893]]\n",
      "A2 test shape:(1, 1097)\n"
     ]
    }
   ],
   "execution_count": 25
  },
  {
   "metadata": {
    "ExecuteTime": {
     "end_time": "2025-03-12T15:09:39.423208Z",
     "start_time": "2025-03-12T15:09:39.419412Z"
    }
   },
   "cell_type": "code",
   "source": [
    "print(\"Z1 is:\" + str(test_cache[\"Z1\"]))\n",
    "print(\"A1 is:\" + str(test_cache[\"A1\"]))\n",
    "print(\"Z2 is:\" + str(test_cache[\"Z2\"]))\n",
    "print(\"A2 is:\" + str(test_cache[\"A2\"]))"
   ],
   "id": "6199a71591a2df4a",
   "outputs": [
    {
     "name": "stdout",
     "output_type": "stream",
     "text": [
      "Z1 is:[[-0.102913    0.05031256  0.02529391 ...  0.06187844  0.00323155\n",
      "  -0.05184445]\n",
      " [-0.03184479  0.21452315  0.0202957  ...  0.1732279  -0.00842498\n",
      "  -0.08684872]\n",
      " [ 0.09539668 -0.07726144 -0.00443225 ... -0.08418797  0.00827182\n",
      "   0.04041363]\n",
      " [-0.16539789 -0.05743321 -0.09467096 ...  0.0139666  -0.05682372\n",
      "   0.01772067]\n",
      " [ 0.14697393 -0.07822253 -0.03756487 ... -0.09243179 -0.00716118\n",
      "   0.06171007]]\n",
      "A1 is:[[-0.10255121  0.05027015  0.02528852 ...  0.06179958  0.00323153\n",
      "  -0.05179805]\n",
      " [-0.03183403  0.21129183  0.02029291 ...  0.17151571 -0.00842478\n",
      "  -0.08663102]\n",
      " [ 0.09510835 -0.07710808 -0.00443222 ... -0.08398964  0.00827163\n",
      "   0.04039165]\n",
      " [-0.16390598 -0.05737015 -0.09438914 ...  0.01396569 -0.05676263\n",
      "   0.01771882]\n",
      " [ 0.14592472 -0.07806337 -0.03754721 ... -0.09216945 -0.00716106\n",
      "   0.06163186]]\n",
      "Z2 is:[[ 0.00017392  0.00145001  0.00187104 ...  0.00076458  0.00091968\n",
      "  -0.00112427]]\n",
      "A2 is:[[0.50004348 0.5003625  0.50046776 ... 0.50019115 0.50022992 0.49971893]]\n"
     ]
    }
   ],
   "execution_count": 26
  },
  {
   "metadata": {},
   "cell_type": "markdown",
   "source": "## Compute Cost",
   "id": "14be9357babf6421"
  },
  {
   "metadata": {
    "ExecuteTime": {
     "end_time": "2025-03-12T15:09:39.581043Z",
     "start_time": "2025-03-12T15:09:39.578417Z"
    }
   },
   "cell_type": "code",
   "source": "print(\"Y shape is \" + str(y_train.shape))",
   "id": "b3fe8aa050d9306b",
   "outputs": [
    {
     "name": "stdout",
     "output_type": "stream",
     "text": [
      "Y shape is (1097, 1)\n"
     ]
    }
   ],
   "execution_count": 27
  },
  {
   "metadata": {
    "ExecuteTime": {
     "end_time": "2025-03-12T15:09:39.669258Z",
     "start_time": "2025-03-12T15:09:39.665837Z"
    }
   },
   "cell_type": "code",
   "source": [
    "def compute_cost(A2, y):\n",
    "    m = A2.shape[1]\n",
    "    cost = - (np.dot(np.log(A2), y) + np.dot(np.log(1 - A2), (1 - y))) / m\n",
    "    cost = float(np.squeeze(cost))\n",
    "    return cost"
   ],
   "id": "15c901066063e88f",
   "outputs": [],
   "execution_count": 28
  },
  {
   "metadata": {
    "ExecuteTime": {
     "end_time": "2025-03-12T15:09:39.750805Z",
     "start_time": "2025-03-12T15:09:39.747712Z"
    }
   },
   "cell_type": "code",
   "source": "test_cost = compute_cost(test_cache[\"A2\"], y_train)",
   "id": "ec3994b152bfa9a8",
   "outputs": [],
   "execution_count": 29
  },
  {
   "metadata": {
    "ExecuteTime": {
     "end_time": "2025-03-12T15:09:39.833128Z",
     "start_time": "2025-03-12T15:09:39.830710Z"
    }
   },
   "cell_type": "code",
   "source": "test_cost",
   "id": "c77dc03fe9ab427c",
   "outputs": [
    {
     "data": {
      "text/plain": [
       "0.6934831763208149"
      ]
     },
     "execution_count": 30,
     "metadata": {},
     "output_type": "execute_result"
    }
   ],
   "execution_count": 30
  },
  {
   "metadata": {},
   "cell_type": "markdown",
   "source": "## Backpropagation",
   "id": "2f4eda393e748149"
  },
  {
   "metadata": {
    "ExecuteTime": {
     "end_time": "2025-03-12T15:09:40.001001Z",
     "start_time": "2025-03-12T15:09:39.998433Z"
    }
   },
   "cell_type": "code",
   "source": [
    "print(\"A1 shape:\" + str(test_cache[\"A1\"]))\n",
    "print(\"A2 shape:\" + str(test_cache[\"A2\"]))\n",
    "print(\"W1 shape:\" + str(test_parameters[\"w1\"]))\n",
    "print(\"W2 shape:\" + str(test_parameters[\"w2\"]))\n",
    "print(\"x train shape:\" + str(X_train.shape))\n",
    "print(\"y train shape:\" + str(y_train.shape))"
   ],
   "id": "712c9542cae0c374",
   "outputs": [
    {
     "name": "stdout",
     "output_type": "stream",
     "text": [
      "A1 shape:[[-0.10255121  0.05027015  0.02528852 ...  0.06179958  0.00323153\n",
      "  -0.05179805]\n",
      " [-0.03183403  0.21129183  0.02029291 ...  0.17151571 -0.00842478\n",
      "  -0.08663102]\n",
      " [ 0.09510835 -0.07710808 -0.00443222 ... -0.08398964  0.00827163\n",
      "   0.04039165]\n",
      " [-0.16390598 -0.05737015 -0.09438914 ...  0.01396569 -0.05676263\n",
      "   0.01771882]\n",
      " [ 0.14592472 -0.07806337 -0.03754721 ... -0.09216945 -0.00716106\n",
      "   0.06163186]]\n",
      "A2 shape:[[0.50004348 0.5003625  0.50046776 ... 0.50019115 0.50022992 0.49971893]]\n",
      "W1 shape:[[ 0.00496714 -0.00138264  0.00647689  0.0152303 ]\n",
      " [-0.00234153 -0.00234137  0.01579213  0.00767435]\n",
      " [-0.00469474  0.0054256  -0.00463418 -0.0046573 ]\n",
      " [ 0.00241962 -0.0191328  -0.01724918 -0.00562288]\n",
      " [-0.01012831  0.00314247 -0.00908024 -0.01412304]]\n",
      "W2 shape:[[ 0.01465649 -0.00225776  0.00067528 -0.01424748 -0.00544383]]\n",
      "x train shape:(1097, 4)\n",
      "y train shape:(1097, 1)\n"
     ]
    }
   ],
   "execution_count": 31
  },
  {
   "metadata": {
    "ExecuteTime": {
     "end_time": "2025-03-12T15:10:10.768254Z",
     "start_time": "2025-03-12T15:10:10.764160Z"
    }
   },
   "cell_type": "code",
   "source": [
    "def backpropagation(X, y, cache, parameters):\n",
    "    m = X.shape[1]\n",
    "    W1 = parameters[\"w1\"]\n",
    "    W2 = parameters[\"w2\"]\n",
    "    A1 = cache[\"A1\"]\n",
    "    A2 = cache[\"A2\"]\n",
    "\n",
    "    dZ2 = A2.T - y\n",
    "    dW2 = np.dot(dZ2.T, A1.T) / m\n",
    "    db2 = np.sum(dZ2, axis=0, keepdims=True) / m\n",
    "    dZ1 = np.dot(dZ2, W2) * (1 - np.power(A1, 2)).T\n",
    "    dW1 = np.dot(dZ1.T, X) / m\n",
    "    db1 = np.sum(dZ1, axis=0, keepdims=True) / m\n",
    "\n",
    "    grads = {\n",
    "        \"dW1\": dW1,\n",
    "        \"dW2\": dW2,\n",
    "        \"db1\": db1,\n",
    "        \"db2\": db2,\n",
    "    }\n",
    "\n",
    "    return grads"
   ],
   "id": "c62caf80404f6f8c",
   "outputs": [],
   "execution_count": 44
  },
  {
   "metadata": {
    "ExecuteTime": {
     "end_time": "2025-03-12T15:10:11.252165Z",
     "start_time": "2025-03-12T15:10:11.249091Z"
    }
   },
   "cell_type": "code",
   "source": "test_grads = backpropagation(X_train, y_train, test_cache, test_parameters)",
   "id": "70c33202024e481b",
   "outputs": [],
   "execution_count": 45
  },
  {
   "metadata": {
    "ExecuteTime": {
     "end_time": "2025-03-12T15:10:11.341196Z",
     "start_time": "2025-03-12T15:10:11.338402Z"
    }
   },
   "cell_type": "code",
   "source": [
    "print(\"dW1 shape: \" + str(test_grads[\"dW1\"].shape))\n",
    "print(\"dW2 shape: \" + str(test_grads[\"dW2\"].shape))\n",
    "print(\"db1 shape: \" + str(test_grads[\"db1\"].shape))\n",
    "print(\"db2 shape: \" + str(test_grads[\"db2\"].shape))"
   ],
   "id": "d7d5ba64c59ce236",
   "outputs": [
    {
     "name": "stdout",
     "output_type": "stream",
     "text": [
      "dW1 shape: (5, 4)\n",
      "dW2 shape: (1, 5)\n",
      "db1 shape: (1, 5)\n",
      "db2 shape: (1, 1)\n"
     ]
    }
   ],
   "execution_count": 46
  },
  {
   "metadata": {
    "ExecuteTime": {
     "end_time": "2025-03-12T15:10:11.420606Z",
     "start_time": "2025-03-12T15:10:11.417549Z"
    }
   },
   "cell_type": "code",
   "source": [
    "def update_parameters(parameters, grads, learning_rate=0.01):\n",
    "    W1 = parameters[\"w1\"]\n",
    "    b1 = parameters[\"b1\"]\n",
    "    W2 = parameters[\"w2\"]\n",
    "    b2 = parameters[\"b2\"]\n",
    "\n",
    "    dW1 = grads[\"dW1\"]\n",
    "    dW2 = grads[\"dW2\"]\n",
    "    db1 = grads[\"db1\"]\n",
    "    db2 = grads[\"db2\"]\n",
    "\n",
    "    w1 = W1 - learning_rate * dW1\n",
    "    b1 = b1 - learning_rate * db1.T\n",
    "    w2 = W2 - learning_rate * dW2\n",
    "    b2 = b2 - learning_rate * db2\n",
    "\n",
    "    parameters = {\n",
    "        \"w1\": w1,\n",
    "        \"b1\": b1,\n",
    "        \"w2\": w2,\n",
    "        \"b2\": b2,\n",
    "    }\n",
    "\n",
    "    return parameters"
   ],
   "id": "ede89561625fa453",
   "outputs": [],
   "execution_count": 47
  },
  {
   "metadata": {
    "ExecuteTime": {
     "end_time": "2025-03-12T15:10:11.503135Z",
     "start_time": "2025-03-12T15:10:11.500717Z"
    }
   },
   "cell_type": "code",
   "source": [
    "def nn_model(X, Y, n_x, n_h, n_y, n_steps=1000, print_cost=True):\n",
    "    parameters = initialize_parameters(n_x, n_h, n_y)\n",
    "\n",
    "    for i in range(0, n_steps):\n",
    "        A2, cache = forward_propagation(X, parameters)\n",
    "        cost = compute_cost(A2, Y)\n",
    "        grads = backpropagation(X, Y, cache, parameters)\n",
    "        parameters = update_parameters(parameters, grads)\n",
    "\n",
    "        if print_cost and i % 1000 == 0:\n",
    "            print(\"Cost after iteration %i: %f\" % (i, cost))\n",
    "\n",
    "    return parameters"
   ],
   "id": "d42c2e1e92903826",
   "outputs": [],
   "execution_count": 48
  },
  {
   "metadata": {
    "ExecuteTime": {
     "end_time": "2025-03-12T15:10:11.581985Z",
     "start_time": "2025-03-12T15:10:11.580114Z"
    }
   },
   "cell_type": "code",
   "source": [
    "def predict(parameters, x):\n",
    "    A2, cache = forward_propagation(x, parameters)\n",
    "    predicts = A2 > 0.5\n",
    "    return predicts"
   ],
   "id": "e30fc2b8f3b0ae03",
   "outputs": [],
   "execution_count": 49
  },
  {
   "metadata": {
    "ExecuteTime": {
     "end_time": "2025-03-12T15:10:11.665645Z",
     "start_time": "2025-03-12T15:10:11.663350Z"
    }
   },
   "cell_type": "code",
   "source": "X_train.shape",
   "id": "bda73af6ee75d36c",
   "outputs": [
    {
     "data": {
      "text/plain": [
       "(1097, 4)"
      ]
     },
     "execution_count": 50,
     "metadata": {},
     "output_type": "execute_result"
    }
   ],
   "execution_count": 50
  },
  {
   "metadata": {
    "ExecuteTime": {
     "end_time": "2025-03-12T15:10:11.879399Z",
     "start_time": "2025-03-12T15:10:11.750191Z"
    }
   },
   "cell_type": "code",
   "source": "parameters = nn_model(X_train, y_train, X_train.shape[1], n_h=6, n_y=1, n_steps=1000)",
   "id": "82448f3db93b77f3",
   "outputs": [
    {
     "name": "stdout",
     "output_type": "stream",
     "text": [
      "Cost after iteration 0: 0.693000\n"
     ]
    }
   ],
   "execution_count": 51
  },
  {
   "metadata": {
    "ExecuteTime": {
     "end_time": "2025-03-12T15:10:11.887746Z",
     "start_time": "2025-03-12T15:10:11.885661Z"
    }
   },
   "cell_type": "code",
   "source": "predicts = predict(parameters, X_test)",
   "id": "caa31d72ccf0837",
   "outputs": [],
   "execution_count": 52
  },
  {
   "metadata": {
    "ExecuteTime": {
     "end_time": "2025-03-12T15:10:11.932171Z",
     "start_time": "2025-03-12T15:10:11.926204Z"
    }
   },
   "cell_type": "code",
   "source": [
    "y_true = y_test.flatten()\n",
    "y_pred = predicts.flatten()\n",
    "acc = accuracy_score(y_true, y_pred)\n",
    "precision = precision_score(y_true, y_pred, average='binary')\n",
    "recall = recall_score(y_true, y_pred, average='binary')\n",
    "f1 = f1_score(y_true, y_pred, average='binary')\n",
    "conf_matrix = confusion_matrix(y_true, y_pred)"
   ],
   "id": "dd3334473713b913",
   "outputs": [],
   "execution_count": 53
  },
  {
   "metadata": {
    "ExecuteTime": {
     "end_time": "2025-03-12T15:10:12.007067Z",
     "start_time": "2025-03-12T15:10:12.001664Z"
    }
   },
   "cell_type": "code",
   "source": [
    "print(f\"Accuracy: {acc:.4f}\")\n",
    "print(f\"Precision: {precision:.4f}\")\n",
    "print(f\"Recall: {recall:.4f}\")\n",
    "print(f\"F1 Score: {f1:.4f}\")\n",
    "print(\"\\nConfusion Matrix:\")\n",
    "print(conf_matrix)\n",
    "print(\"\\nClassification Report:\")\n",
    "print(classification_report(y_true, y_pred))"
   ],
   "id": "76a936bbda200a93",
   "outputs": [
    {
     "name": "stdout",
     "output_type": "stream",
     "text": [
      "Accuracy: 1.0000\n",
      "Precision: 1.0000\n",
      "Recall: 1.0000\n",
      "F1 Score: 1.0000\n",
      "\n",
      "Confusion Matrix:\n",
      "[[153   0]\n",
      " [  0 122]]\n",
      "\n",
      "Classification Report:\n",
      "              precision    recall  f1-score   support\n",
      "\n",
      "           0       1.00      1.00      1.00       153\n",
      "           1       1.00      1.00      1.00       122\n",
      "\n",
      "    accuracy                           1.00       275\n",
      "   macro avg       1.00      1.00      1.00       275\n",
      "weighted avg       1.00      1.00      1.00       275\n",
      "\n"
     ]
    }
   ],
   "execution_count": 54
  },
  {
   "metadata": {
    "ExecuteTime": {
     "end_time": "2025-03-12T15:10:17.644473Z",
     "start_time": "2025-03-12T15:10:12.083972Z"
    }
   },
   "cell_type": "code",
   "source": [
    "parameters_n_h = [i for i in range(3, 11)]\n",
    "parameters_n_steps = [i for i in range(100, 1100, 100)]\n",
    "for n_h in parameters_n_h:\n",
    "    for n_step in parameters_n_steps:\n",
    "        parameters = nn_model(X_train, y_train, X_train.shape[1], n_h=n_h, n_y=1, n_steps=n_step, print_cost=False)\n",
    "        predicts = predict(parameters, X_test)\n",
    "        acc = accuracy_score(y_test.flatten(), predicts.flatten())\n",
    "        print(f\"n_h: {n_h}, n_step: {n_step}, acc: {acc}\")"
   ],
   "id": "eff7f22db7ea031a",
   "outputs": [
    {
     "name": "stdout",
     "output_type": "stream",
     "text": [
      "n_h: 3, n_step: 100, acc: 1.0\n",
      "n_h: 3, n_step: 200, acc: 1.0\n",
      "n_h: 3, n_step: 300, acc: 1.0\n",
      "n_h: 3, n_step: 400, acc: 1.0\n",
      "n_h: 3, n_step: 500, acc: 1.0\n",
      "n_h: 3, n_step: 600, acc: 1.0\n",
      "n_h: 3, n_step: 700, acc: 1.0\n",
      "n_h: 3, n_step: 800, acc: 1.0\n",
      "n_h: 3, n_step: 900, acc: 1.0\n",
      "n_h: 3, n_step: 1000, acc: 1.0\n",
      "n_h: 4, n_step: 100, acc: 1.0\n",
      "n_h: 4, n_step: 200, acc: 1.0\n",
      "n_h: 4, n_step: 300, acc: 1.0\n",
      "n_h: 4, n_step: 400, acc: 1.0\n",
      "n_h: 4, n_step: 500, acc: 1.0\n",
      "n_h: 4, n_step: 600, acc: 1.0\n",
      "n_h: 4, n_step: 700, acc: 1.0\n",
      "n_h: 4, n_step: 800, acc: 1.0\n",
      "n_h: 4, n_step: 900, acc: 1.0\n",
      "n_h: 4, n_step: 1000, acc: 1.0\n",
      "n_h: 5, n_step: 100, acc: 1.0\n",
      "n_h: 5, n_step: 200, acc: 1.0\n",
      "n_h: 5, n_step: 300, acc: 1.0\n",
      "n_h: 5, n_step: 400, acc: 1.0\n",
      "n_h: 5, n_step: 500, acc: 1.0\n",
      "n_h: 5, n_step: 600, acc: 1.0\n",
      "n_h: 5, n_step: 700, acc: 1.0\n",
      "n_h: 5, n_step: 800, acc: 1.0\n",
      "n_h: 5, n_step: 900, acc: 1.0\n",
      "n_h: 5, n_step: 1000, acc: 1.0\n",
      "n_h: 6, n_step: 100, acc: 1.0\n",
      "n_h: 6, n_step: 200, acc: 1.0\n",
      "n_h: 6, n_step: 300, acc: 1.0\n",
      "n_h: 6, n_step: 400, acc: 1.0\n",
      "n_h: 6, n_step: 500, acc: 1.0\n",
      "n_h: 6, n_step: 600, acc: 1.0\n",
      "n_h: 6, n_step: 700, acc: 1.0\n",
      "n_h: 6, n_step: 800, acc: 1.0\n",
      "n_h: 6, n_step: 900, acc: 1.0\n",
      "n_h: 6, n_step: 1000, acc: 1.0\n",
      "n_h: 7, n_step: 100, acc: 1.0\n",
      "n_h: 7, n_step: 200, acc: 1.0\n",
      "n_h: 7, n_step: 300, acc: 1.0\n",
      "n_h: 7, n_step: 400, acc: 1.0\n",
      "n_h: 7, n_step: 500, acc: 1.0\n",
      "n_h: 7, n_step: 600, acc: 1.0\n",
      "n_h: 7, n_step: 700, acc: 1.0\n",
      "n_h: 7, n_step: 800, acc: 1.0\n",
      "n_h: 7, n_step: 900, acc: 1.0\n",
      "n_h: 7, n_step: 1000, acc: 1.0\n",
      "n_h: 8, n_step: 100, acc: 1.0\n",
      "n_h: 8, n_step: 200, acc: 1.0\n",
      "n_h: 8, n_step: 300, acc: 1.0\n",
      "n_h: 8, n_step: 400, acc: 1.0\n",
      "n_h: 8, n_step: 500, acc: 1.0\n",
      "n_h: 8, n_step: 600, acc: 1.0\n",
      "n_h: 8, n_step: 700, acc: 1.0\n",
      "n_h: 8, n_step: 800, acc: 1.0\n",
      "n_h: 8, n_step: 900, acc: 1.0\n",
      "n_h: 8, n_step: 1000, acc: 1.0\n",
      "n_h: 9, n_step: 100, acc: 1.0\n",
      "n_h: 9, n_step: 200, acc: 1.0\n",
      "n_h: 9, n_step: 300, acc: 1.0\n",
      "n_h: 9, n_step: 400, acc: 1.0\n",
      "n_h: 9, n_step: 500, acc: 1.0\n",
      "n_h: 9, n_step: 600, acc: 1.0\n",
      "n_h: 9, n_step: 700, acc: 1.0\n",
      "n_h: 9, n_step: 800, acc: 1.0\n",
      "n_h: 9, n_step: 900, acc: 1.0\n",
      "n_h: 9, n_step: 1000, acc: 1.0\n",
      "n_h: 10, n_step: 100, acc: 1.0\n",
      "n_h: 10, n_step: 200, acc: 1.0\n",
      "n_h: 10, n_step: 300, acc: 1.0\n",
      "n_h: 10, n_step: 400, acc: 1.0\n",
      "n_h: 10, n_step: 500, acc: 1.0\n",
      "n_h: 10, n_step: 600, acc: 1.0\n",
      "n_h: 10, n_step: 700, acc: 1.0\n",
      "n_h: 10, n_step: 800, acc: 1.0\n",
      "n_h: 10, n_step: 900, acc: 1.0\n",
      "n_h: 10, n_step: 1000, acc: 1.0\n"
     ]
    }
   ],
   "execution_count": 55
  },
  {
   "metadata": {
    "ExecuteTime": {
     "end_time": "2025-03-12T15:17:07.404795Z",
     "start_time": "2025-03-12T15:17:07.402759Z"
    }
   },
   "cell_type": "code",
   "source": "",
   "id": "44c2086ed1acab9c",
   "outputs": [],
   "execution_count": null
  },
  {
   "metadata": {
    "ExecuteTime": {
     "end_time": "2025-03-12T15:11:17.906359Z",
     "start_time": "2025-03-12T15:11:17.904656Z"
    }
   },
   "cell_type": "code",
   "source": "",
   "id": "582baec1044505e2",
   "outputs": [],
   "execution_count": null
  },
  {
   "metadata": {
    "ExecuteTime": {
     "end_time": "2025-03-12T15:11:18.066348Z",
     "start_time": "2025-03-12T15:11:18.064776Z"
    }
   },
   "cell_type": "code",
   "source": "",
   "id": "c9479def1657d931",
   "outputs": [],
   "execution_count": null
  },
  {
   "metadata": {},
   "cell_type": "code",
   "outputs": [],
   "execution_count": null,
   "source": "",
   "id": "237b814361ec2df3"
  }
 ],
 "metadata": {
  "kernelspec": {
   "display_name": "Python 3",
   "language": "python",
   "name": "python3"
  },
  "language_info": {
   "codemirror_mode": {
    "name": "ipython",
    "version": 2
   },
   "file_extension": ".py",
   "mimetype": "text/x-python",
   "name": "python",
   "nbconvert_exporter": "python",
   "pygments_lexer": "ipython2",
   "version": "2.7.6"
  }
 },
 "nbformat": 4,
 "nbformat_minor": 5
}
